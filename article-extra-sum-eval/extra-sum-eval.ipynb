{
 "cells": [
  {
   "cell_type": "markdown",
   "id": "7f093750-ec19-471e-b68b-96d7e70f0d94",
   "metadata": {},
   "source": [
    "# Evaluation of Extractive Summarization Algos\n",
    "\n",
    "The goal is to research differences in the summarization efficiency of the popular summarization extractive algorithms with respect to the text language.\n",
    "\n",
    "#### Languages:\n",
    "- English\n",
    "- Ukrainian\n",
    "- Early New High German (?)\n",
    "\n",
    "#### Algorithms:\n",
    "- Random\n",
    "- LexRank\n",
    "- TextRank\n",
    "- Luhn\n",
    "- LSA (Latent Semantic Analysis)\n",
    "- KL (Kullback-Lieber)\n",
    "\n",
    "#### Evaluation approaches:\n",
    "- ROUGE\n",
    "- ROUGE-we\n",
    "- BertScore\n",
    "- SummaQA\n",
    "- BLANC\n",
    "- BLEU\n",
    "- ... (?)\n"
   ]
  },
  {
   "cell_type": "code",
   "execution_count": 11,
   "id": "3fdd28aa-d6e6-4464-8f27-bcd74dc5aa50",
   "metadata": {},
   "outputs": [],
   "source": [
    "import requests\n",
    "import json"
   ]
  },
  {
   "cell_type": "code",
   "execution_count": 31,
   "id": "997a1545-65a9-44e2-8683-08bd5c859bd8",
   "metadata": {},
   "outputs": [],
   "source": [
    "def get_request_url(lang):\n",
    "    return f\"https://datasets-server.huggingface.co/rows?dataset=wikimedia%2Fwikipedia&config=20231101.{lang}&split=train&offset=0&length=100\";\n"
   ]
  },
  {
   "cell_type": "code",
   "execution_count": 32,
   "id": "2deff86a-9542-4b85-b694-68374285ac0a",
   "metadata": {},
   "outputs": [],
   "source": [
    "languages = ['en', 'uk']\n",
    "en_response = requests.get(get_request_url(languages[0]))\n",
    "uk_response = requests.get(get_request_url(languages[1]))"
   ]
  },
  {
   "cell_type": "code",
   "execution_count": 52,
   "id": "d8f47260-0068-4d89-9665-6d444f8b6732",
   "metadata": {},
   "outputs": [],
   "source": [
    "en_texts = json.loads(en_response.text)\n",
    "uk_texts = json.loads(uk_response.text)"
   ]
  },
  {
   "cell_type": "code",
   "execution_count": 72,
   "id": "566d766e-9e8c-4c09-843f-f06620a25b06",
   "metadata": {},
   "outputs": [],
   "source": [
    "def show_texts_representation(texts):\n",
    "    for entry in texts['rows'][0:4]:\n",
    "        row = entry['row']\n",
    "        print(f\"{row['title']:<40} {row['text'][0:80]:<50}...\")"
   ]
  },
  {
   "cell_type": "code",
   "execution_count": 73,
   "id": "ef0d6934-e76b-4414-9a75-d27454b44557",
   "metadata": {},
   "outputs": [
    {
     "name": "stdout",
     "output_type": "stream",
     "text": [
      "Anarchism                                Anarchism is a political philosophy and movement that is skeptical of all justif...\n",
      "Albedo                                   Albedo (; ) is the fraction of sunlight that is diffusely reflected by a body. I...\n",
      "A                                        A, or a, is the first letter and the first vowel of the Latin alphabet, used in ...\n",
      "Alabama                                  Alabama () is a state in the Southeastern region of the United States, bordered ...\n"
     ]
    }
   ],
   "source": [
    "show_texts_representation(en_texts)"
   ]
  },
  {
   "cell_type": "code",
   "execution_count": 74,
   "id": "f4e22599-8775-4c58-9c3b-cad70b5f065e",
   "metadata": {},
   "outputs": [
    {
     "name": "stdout",
     "output_type": "stream",
     "text": [
      "Географія                                Геогра́фія, або заст. земле́пис (від  — опис Землі; де  — Земля і  — писати, опи...\n",
      "Атом                                     А́том (від  — «неподільний», найменша частинка або буквально «тіло, яке не можна...\n",
      "Мільярд                                  Мільярд (, ) — число, назва величини . Скорочення — «млрд». Після скорочень «млн...\n",
      "Ядро                                     Ядро́ — основна частина, група певного колективу, яка визначає, організує і спря...\n"
     ]
    }
   ],
   "source": [
    "show_texts_representation(uk_texts)"
   ]
  },
  {
   "cell_type": "code",
   "execution_count": null,
   "id": "f9ba1690-a577-410c-9921-bd96579d64eb",
   "metadata": {},
   "outputs": [],
   "source": []
  }
 ],
 "metadata": {
  "kernelspec": {
   "display_name": "Python 3 (ipykernel)",
   "language": "python",
   "name": "python3"
  },
  "language_info": {
   "codemirror_mode": {
    "name": "ipython",
    "version": 3
   },
   "file_extension": ".py",
   "mimetype": "text/x-python",
   "name": "python",
   "nbconvert_exporter": "python",
   "pygments_lexer": "ipython3",
   "version": "3.11.5"
  }
 },
 "nbformat": 4,
 "nbformat_minor": 5
}
