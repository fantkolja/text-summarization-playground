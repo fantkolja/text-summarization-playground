{
 "cells": [
  {
   "cell_type": "markdown",
   "id": "7f093750-ec19-471e-b68b-96d7e70f0d94",
   "metadata": {},
   "source": [
    "# Evaluation of Extractive Summarization Algos\n",
    "\n",
    "The goal is to research differences in the summarization efficiency of the popular summarization extractive algorithms with respect to the text language.\n",
    "\n",
    "#### Languages:\n",
    "- English\n",
    "- Ukrainian\n",
    "- Early New High German (?)\n",
    "\n",
    "#### Algorithms:\n",
    "- Random\n",
    "- Frequency\n",
    "- LexRank\n",
    "- TextRank\n",
    "- Luhn\n",
    "- LSA (Latent Semantic Analysis)\n",
    "- KL (Kullback-Leibler)\n",
    "\n",
    "#### Evaluation approaches:\n",
    "- SummaQA (https://github.com/ThomasScialom/summa-qa)\n",
    "- BLANC (https://github.com/PrimerAI/blanc)\n",
    "- SUPERT (https://github.com/yg211/acl20-ref-free-eval), too much?..\n",
    "- BLEU (actually it's for MT...)  (**NOT SUITABLE - requires reference human-edited summary**)\n",
    "- ROUGE (https://pypi.org/project/rouge-score/) (**NOT SUITABLE - requires reference human-edited summary**)\n"
   ]
  },
  {
   "cell_type": "code",
   "execution_count": 10,
   "id": "3fdd28aa-d6e6-4464-8f27-bcd74dc5aa50",
   "metadata": {},
   "outputs": [],
   "source": [
    "import requests\n",
    "import json\n",
    "import math\n",
    "from sumy.parsers.plaintext import PlaintextParser\n",
    "from sumy.nlp.tokenizers import Tokenizer\n",
    "from sumy.summarizers.random import RandomSummarizer\n",
    "from sumy.summarizers.luhn import LuhnSummarizer\n",
    "from sumy.summarizers.sum_basic import SumBasicSummarizer\n",
    "from sumy.summarizers.kl import KLSummarizer\n",
    "from sumy.summarizers.reduction import ReductionSummarizer\n",
    "from sumy.summarizers.text_rank import TextRankSummarizer\n",
    "from sumy.summarizers.lex_rank import LexRankSummarizer\n",
    "from sumy.summarizers.lsa import LsaSummarizer\n",
    "from sumy.nlp.stemmers import Stemmer\n",
    "from sumy.utils import get_stop_words"
   ]
  },
  {
   "cell_type": "code",
   "execution_count": 14,
   "id": "997a1545-65a9-44e2-8683-08bd5c859bd8",
   "metadata": {},
   "outputs": [],
   "source": [
    "def get_request_url(lang):\n",
    "    return f\"https://datasets-server.huggingface.co/rows?dataset=wikimedia%2Fwikipedia&config=20231101.{lang}&split=train&offset=0&length={TEXT_COUNT}\";\n"
   ]
  },
  {
   "cell_type": "code",
   "execution_count": 16,
   "id": "6f286942-cdb7-411c-a82e-56cf7e03c5fe",
   "metadata": {},
   "outputs": [],
   "source": [
    "class LanguageConfig:\n",
    "    def __init__(self, short_name, long_name):\n",
    "        self.short = short_name\n",
    "        self.long = long_name\n",
    "        self.tokenizer = Tokenizer(long_name)\n",
    "        self.stemmer = Stemmer(long_name)\n",
    "        self.stop_words = get_stop_words(long_name)\n",
    "        self.texts = self.get_texts(short_name)\n",
    "\n",
    "    def get_texts(self, name):\n",
    "        response = requests.get(get_request_url(name))\n",
    "        return json.loads(response.text)"
   ]
  },
  {
   "cell_type": "code",
   "execution_count": 17,
   "id": "ad8861f1-fd49-43fd-bdad-5491a94f9f5c",
   "metadata": {},
   "outputs": [],
   "source": [
    "class Languages:\n",
    "    def __init__(self, enLang, ukLang):\n",
    "        self.en = enLang\n",
    "        self.uk = ukLang"
   ]
  },
  {
   "cell_type": "code",
   "execution_count": 18,
   "id": "2deff86a-9542-4b85-b694-68374285ac0a",
   "metadata": {},
   "outputs": [],
   "source": [
    "TEXT_COUNT = 10\n",
    "SUMMARY_SIZE_PERCENTAGE = 5\n",
    "languages = Languages(LanguageConfig('en', 'english'),\n",
    "                      LanguageConfig('uk', 'ukrainian'))"
   ]
  },
  {
   "cell_type": "markdown",
   "id": "c7c687dc-8ed7-4568-9a80-6a31433c4f01",
   "metadata": {},
   "source": [
    "### Generating summaries"
   ]
  },
  {
   "cell_type": "code",
   "execution_count": 19,
   "id": "bb2ddc1a-c438-42ee-9613-f6dc47e94212",
   "metadata": {},
   "outputs": [],
   "source": [
    "class TextWithSummaries:\n",
    "    def __init__(self, text, title, langConfig):\n",
    "        stemmer = langConfig.stemmer\n",
    "        tokenizer = langConfig.tokenizer\n",
    "        stop_words = langConfig.stop_words\n",
    "    \n",
    "        self.text = text\n",
    "        self.title = title\n",
    "        self.random_summary = self.get_summary(RandomSummarizer(stemmer), tokenizer, stop_words)\n",
    "        self.luhn_summary = self.get_summary(LuhnSummarizer(stemmer), tokenizer, stop_words)\n",
    "        self.kl_summary = self.get_summary(KLSummarizer(stemmer), tokenizer, stop_words)\n",
    "        self.reduction_summary = self.get_summary(ReductionSummarizer(stemmer), tokenizer, stop_words)\n",
    "        self.text_rank_summary = self.get_summary(TextRankSummarizer(stemmer), tokenizer, stop_words)\n",
    "        self.lex_rank_summary = self.get_summary(LexRankSummarizer(stemmer), tokenizer, stop_words)\n",
    "        self.lsa_summary = self.get_summary(LsaSummarizer(stemmer), tokenizer, stop_words)\n",
    "    \n",
    "    def get_summary(self, summarizer, tokenizer, stop_words):\n",
    "        parser = PlaintextParser.from_string(self.text, tokenizer)\n",
    "        summarizer.stop_words = stop_words\n",
    "        sentences_length = len(tokenizer.to_sentences(self.text))\n",
    "        return summarizer(parser.document, math.floor(sentences_length * SUMMARY_SIZE_PERCENTAGE / 100))\n",
    "        "
   ]
  },
  {
   "cell_type": "code",
   "execution_count": 99,
   "id": "1c0cfff9-03b0-4191-9800-217db00f2bd9",
   "metadata": {},
   "outputs": [],
   "source": [
    "text_with_summary = TextWithSummaries(languages.uk.texts['rows'][0]['row']['text'], languages.uk.texts['rows'][0]['row']['title'], languages.uk)"
   ]
  },
  {
   "cell_type": "code",
   "execution_count": 100,
   "id": "9ae618d1-46c1-41d4-8835-c074da356e01",
   "metadata": {},
   "outputs": [
    {
     "name": "stdout",
     "output_type": "stream",
     "text": [
      "Складність об'єкта дослідження і широта предметної області зумовили диференціацію єдиної географії на низку спеціалізованих (галузевих) наукових дисциплін, які утворюють систему географічних наук\n",
      "Природничо-географічні (фізико-географічні) науки вивчають закономірності будови й розвитку географічної оболонки та її окремих складових частин (рельєф, клімат, води, ґрунти, рослинний і тваринний світ)\n",
      "Палеогеографія широко застосовує загальногеографічні методи й інструменти в історичному аспекті, виробивши на їхній основі власні спеціальні: палеогеоморфологічний, ~педологічний, ~кліматичний, ~ландшафтний та інші\n",
      "Практичне завдання науки полягає у розробці палеогеографічних аспектів основ раціонального природокористування при пошуках і розвідці корисних копалин, меліорації земель, прогнозуванні майбутніх змін сучасного стану навколишнього середовища тощо\n",
      "Розробка проблем перетворення природи в рамках стійкого розвитку людства задля найбільш ефективного використання природних ресурсів, що не порушує незворотно стійкість місцевих і глобальних екологічних систем\n",
      "В результаті Великих географічних відкриттів (XV—XVII століття), здійснених європейськими мандрівниками і мореплавцями, було встановлено контури майже всіх материків, досліджено більшу частину земної поверхні, одержані відомості про природу й господарство раніше невідомих країн\n",
      "Значних успіхів за цей час досягла картографія, Герхардом Меркатором була розроблена незамінна для навігації картографічна проєкція, що названа його іменем\n",
      "До внутрішніх районів Африки дістаються француз Фредерік Кайо (1815—1822), британці Девід Лівінгстон (1840—1873), Джон Спік (1856—1863), Генрі Мортон Стенлі (1871—1888), Герберт Вард (1884—1889) та ін\n",
      "У цей час Південну Америку досліджують іспанець Фелікс де Асара (1781—1801), британець Роберт Фіцрой (1831—1832), французи Алсид д'Орбіньї (1826—1834) і Франсіс Кастельно (1844—1845) та ін\n",
      "Для французької наукової школи цього періоду, заснованої Полем Відалем де ла Блашем, характерне намагання обмежити сферу географічних досліджень вивченням регіональних особливостей у межах окремих країн\n",
      "Із переходом до централізованого державного господарювання в СРСР здійснюються комплексні наукові експедиції з вивчення території Північної Євразії, особливо віддалених і високогірних районів\n",
      "Велике наукове й практичне значення мали дослідження Михайлом Будико радіаційного і теплового балансів Землі, планетарного круговороту вологи, Борисом Алісовим циркуляції повітряних мас\n",
      "Результати досліджень галузевих географічних дисциплін було покладено в основу комплексного, синтетичного вивчення природних і виробничих територіальних комплексів та їхніх взаємозв'язків\n",
      "Важливу роль у розвитку географії відіграло вчення про біосферу і ноосферу українського академіка Володимира Вернадського — першого президента АН України\n",
      "Дослідження кліматичних і гідрологічних умов країни проводили Євген Опоков, Борис Срезневський, Георгій Дубинський, Костянтин Логвинов, Віктор Назаров, Валентин Попов, Олександр Раєвський, Михайло Щербань\n",
      "Ератосфен Страбон Клавдій Птолемей Мухаммад аль-Ідрісі Герард Меркатор Олександр Гумбольдт Карл Ріттер Вільям Морріс Девіс Поль Відаль де ла Блаш Гелфорд Джон Маккіндер\n"
     ]
    }
   ],
   "source": [
    "for sentence in text_with_summary.lsa_summary:\n",
    "    print(sentence)"
   ]
  },
  {
   "cell_type": "code",
   "execution_count": null,
   "id": "c0428a1f-4f2f-4ffb-876e-c69c6a580cd8",
   "metadata": {},
   "outputs": [],
   "source": []
  }
 ],
 "metadata": {
  "kernelspec": {
   "display_name": "Python 3 (ipykernel)",
   "language": "python",
   "name": "python3"
  },
  "language_info": {
   "codemirror_mode": {
    "name": "ipython",
    "version": 3
   },
   "file_extension": ".py",
   "mimetype": "text/x-python",
   "name": "python",
   "nbconvert_exporter": "python",
   "pygments_lexer": "ipython3",
   "version": "3.11.5"
  }
 },
 "nbformat": 4,
 "nbformat_minor": 5
}
